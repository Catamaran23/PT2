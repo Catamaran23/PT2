{
 "cells": [
  {
   "cell_type": "code",
   "execution_count": 1,
   "id": "c1e2daa0-a0a1-4820-b569-f6c3d9eee37d",
   "metadata": {},
   "outputs": [],
   "source": [
    "import pandas as pd"
   ]
  },
  {
   "cell_type": "code",
   "execution_count": 15,
   "id": "16c3c966-b554-434e-a21e-524cafeaa8e8",
   "metadata": {},
   "outputs": [
    {
     "data": {
      "text/html": [
       "<div>\n",
       "<style scoped>\n",
       "    .dataframe tbody tr th:only-of-type {\n",
       "        vertical-align: middle;\n",
       "    }\n",
       "\n",
       "    .dataframe tbody tr th {\n",
       "        vertical-align: top;\n",
       "    }\n",
       "\n",
       "    .dataframe thead th {\n",
       "        text-align: right;\n",
       "    }\n",
       "</style>\n",
       "<table border=\"1\" class=\"dataframe\">\n",
       "  <thead>\n",
       "    <tr style=\"text-align: right;\">\n",
       "      <th></th>\n",
       "      <th>Unnamed: 0</th>\n",
       "      <th>Unnamed: 1</th>\n",
       "    </tr>\n",
       "  </thead>\n",
       "  <tbody>\n",
       "  </tbody>\n",
       "</table>\n",
       "</div>"
      ],
      "text/plain": [
       "Empty DataFrame\n",
       "Columns: [Unnamed: 0, Unnamed: 1]\n",
       "Index: []"
      ]
     },
     "execution_count": 15,
     "metadata": {},
     "output_type": "execute_result"
    }
   ],
   "source": [
    "jeu1 = pd.read_table(\"C:\\\\Users\\\\viann\\\\PT\\\\user_behavior\\\\._DhcpSrvLog-Dim.log\", encoding='utf-8')\n",
    "jeu1"
   ]
  },
  {
   "cell_type": "code",
   "execution_count": 16,
   "id": "ef0bc7af-9323-4603-bbaa-36617a1bfb3d",
   "metadata": {},
   "outputs": [
    {
     "data": {
      "text/html": [
       "<div>\n",
       "<style scoped>\n",
       "    .dataframe tbody tr th:only-of-type {\n",
       "        vertical-align: middle;\n",
       "    }\n",
       "\n",
       "    .dataframe tbody tr th {\n",
       "        vertical-align: top;\n",
       "    }\n",
       "\n",
       "    .dataframe thead th {\n",
       "        text-align: right;\n",
       "    }\n",
       "</style>\n",
       "<table border=\"1\" class=\"dataframe\">\n",
       "  <thead>\n",
       "    <tr style=\"text-align: right;\">\n",
       "      <th></th>\n",
       "      <th>Unnamed: 0</th>\n",
       "      <th>Unnamed: 1</th>\n",
       "    </tr>\n",
       "  </thead>\n",
       "  <tbody>\n",
       "  </tbody>\n",
       "</table>\n",
       "</div>"
      ],
      "text/plain": [
       "Empty DataFrame\n",
       "Columns: [Unnamed: 0, Unnamed: 1]\n",
       "Index: []"
      ]
     },
     "execution_count": 16,
     "metadata": {},
     "output_type": "execute_result"
    }
   ],
   "source": [
    "jeu2 = pd.read_table(\"C:\\\\Users\\\\viann\\\\PT\\\\user_behavior\\\\._DhcpSrvLog-Jeu.log\", encoding='utf-8')\n",
    "jeu2"
   ]
  },
  {
   "cell_type": "code",
   "execution_count": 18,
   "id": "12190304-f544-4ebc-88c4-9e78278d2b9a",
   "metadata": {},
   "outputs": [
    {
     "name": "stderr",
     "output_type": "stream",
     "text": [
      "C:\\Users\\viann\\AppData\\Local\\Temp\\ipykernel_9896\\2885102395.py:1: DtypeWarning: Columns (1) have mixed types. Specify dtype option on import or set low_memory=False.\n",
      "  jeux = pd.read_table(\"C:\\\\Users\\\\viann\\\\PT\\\\user_behavior\\\\DhcpSrvLog-Jeu.log\", encoding='latin1')\n"
     ]
    },
    {
     "data": {
      "text/html": [
       "<div>\n",
       "<style scoped>\n",
       "    .dataframe tbody tr th:only-of-type {\n",
       "        vertical-align: middle;\n",
       "    }\n",
       "\n",
       "    .dataframe tbody tr th {\n",
       "        vertical-align: top;\n",
       "    }\n",
       "\n",
       "    .dataframe thead th {\n",
       "        text-align: right;\n",
       "    }\n",
       "</style>\n",
       "<table border=\"1\" class=\"dataframe\">\n",
       "  <thead>\n",
       "    <tr style=\"text-align: right;\">\n",
       "      <th></th>\n",
       "      <th>Unnamed: 0</th>\n",
       "      <th>Unnamed: 1</th>\n",
       "      <th>Journal d'activité du service DHCP Microsoft</th>\n",
       "    </tr>\n",
       "  </thead>\n",
       "  <tbody>\n",
       "    <tr>\n",
       "      <th>0</th>\n",
       "      <td>Signification des ID d'événement</td>\n",
       "      <td>NaN</td>\n",
       "      <td>NaN</td>\n",
       "    </tr>\n",
       "    <tr>\n",
       "      <th>1</th>\n",
       "      <td>00</td>\n",
       "      <td>Le journal a démarré.</td>\n",
       "      <td>NaN</td>\n",
       "    </tr>\n",
       "    <tr>\n",
       "      <th>2</th>\n",
       "      <td>01</td>\n",
       "      <td>Le journal a été arrêté.</td>\n",
       "      <td>NaN</td>\n",
       "    </tr>\n",
       "    <tr>\n",
       "      <th>3</th>\n",
       "      <td>02</td>\n",
       "      <td>Le journal a été temporairement suspendu par m...</td>\n",
       "      <td>NaN</td>\n",
       "    </tr>\n",
       "    <tr>\n",
       "      <th>4</th>\n",
       "      <td>10</td>\n",
       "      <td>Une nouvelle adresse IP a été allouée par bail...</td>\n",
       "      <td>NaN</td>\n",
       "    </tr>\n",
       "    <tr>\n",
       "      <th>...</th>\n",
       "      <td>...</td>\n",
       "      <td>...</td>\n",
       "      <td>...</td>\n",
       "    </tr>\n",
       "    <tr>\n",
       "      <th>342089</th>\n",
       "      <td>30,07/24/20,00:00:58,Requête de mise à jour DN...</td>\n",
       "      <td>NaN</td>\n",
       "      <td>NaN</td>\n",
       "    </tr>\n",
       "    <tr>\n",
       "      <th>342090</th>\n",
       "      <td>11,07/24/20,00:00:58,Renouveler,192.168.72.31,...</td>\n",
       "      <td>NaN</td>\n",
       "      <td>NaN</td>\n",
       "    </tr>\n",
       "    <tr>\n",
       "      <th>342091</th>\n",
       "      <td>31,07/24/20,00:00:58,Échec de la mise à jour D...</td>\n",
       "      <td>NaN</td>\n",
       "      <td>NaN</td>\n",
       "    </tr>\n",
       "    <tr>\n",
       "      <th>342092</th>\n",
       "      <td>30,07/24/20,00:00:58,Requête de mise à jour DN...</td>\n",
       "      <td>NaN</td>\n",
       "      <td>NaN</td>\n",
       "    </tr>\n",
       "    <tr>\n",
       "      <th>342093</th>\n",
       "      <td>11,07/24/20,00:00:58,Renouveler,192.168.72.31,...</td>\n",
       "      <td>NaN</td>\n",
       "      <td>NaN</td>\n",
       "    </tr>\n",
       "  </tbody>\n",
       "</table>\n",
       "<p>342094 rows × 3 columns</p>\n",
       "</div>"
      ],
      "text/plain": [
       "                                               Unnamed: 0  \\\n",
       "0                        Signification des ID d'événement   \n",
       "1                                                      00   \n",
       "2                                                      01   \n",
       "3                                                      02   \n",
       "4                                                      10   \n",
       "...                                                   ...   \n",
       "342089  30,07/24/20,00:00:58,Requête de mise à jour DN...   \n",
       "342090  11,07/24/20,00:00:58,Renouveler,192.168.72.31,...   \n",
       "342091  31,07/24/20,00:00:58,Échec de la mise à jour D...   \n",
       "342092  30,07/24/20,00:00:58,Requête de mise à jour DN...   \n",
       "342093  11,07/24/20,00:00:58,Renouveler,192.168.72.31,...   \n",
       "\n",
       "                                               Unnamed: 1  \\\n",
       "0                                                     NaN   \n",
       "1                                   Le journal a démarré.   \n",
       "2                                Le journal a été arrêté.   \n",
       "3       Le journal a été temporairement suspendu par m...   \n",
       "4       Une nouvelle adresse IP a été allouée par bail...   \n",
       "...                                                   ...   \n",
       "342089                                                NaN   \n",
       "342090                                                NaN   \n",
       "342091                                                NaN   \n",
       "342092                                                NaN   \n",
       "342093                                                NaN   \n",
       "\n",
       "        Journal d'activité du service DHCP Microsoft  \n",
       "0                                                NaN  \n",
       "1                                                NaN  \n",
       "2                                                NaN  \n",
       "3                                                NaN  \n",
       "4                                                NaN  \n",
       "...                                              ...  \n",
       "342089                                           NaN  \n",
       "342090                                           NaN  \n",
       "342091                                           NaN  \n",
       "342092                                           NaN  \n",
       "342093                                           NaN  \n",
       "\n",
       "[342094 rows x 3 columns]"
      ]
     },
     "execution_count": 18,
     "metadata": {},
     "output_type": "execute_result"
    }
   ],
   "source": [
    "jeux = pd.read_table(\"C:\\\\Users\\\\viann\\\\PT\\\\user_behavior\\\\DhcpSrvLog-Jeu.log\", encoding='latin1')\n",
    "jeux"
   ]
  },
  {
   "cell_type": "code",
   "execution_count": 19,
   "id": "6bf40e00-6f8e-4de6-8d39-ff6d12a1efe6",
   "metadata": {},
   "outputs": [],
   "source": [
    "import chardet"
   ]
  },
  {
   "cell_type": "code",
   "execution_count": 20,
   "id": "7e8639f6-e2ec-46e4-a2b8-d2ae6c101071",
   "metadata": {},
   "outputs": [
    {
     "name": "stdout",
     "output_type": "stream",
     "text": [
      "Encodage détecté : ISO-8859-1 avec une confiance de 73.00%\n"
     ]
    }
   ],
   "source": [
    "# Détecter l'encodage du fichier\n",
    "file_path = r\"C:\\Users\\viann\\PT\\user_behavior\\DhcpSrvLog-Sam.log\"\n",
    "\n",
    "with open(file_path, 'rb') as file:\n",
    "    raw_data = file.read()\n",
    "    result = chardet.detect(raw_data)\n",
    "    encoding = result['encoding']\n",
    "    confidence = result['confidence']\n",
    "    print(f\"Encodage détecté : {encoding} avec une confiance de {confidence*100:.2f}%\")"
   ]
  },
  {
   "cell_type": "code",
   "execution_count": 22,
   "id": "c6cb2ef9-8df5-42ea-8a14-6802f3d25b90",
   "metadata": {},
   "outputs": [
    {
     "name": "stdout",
     "output_type": "stream",
     "text": [
      "                                               Unnamed: 0  \\\n",
      "0                        Signification des ID d'événement   \n",
      "1                                                      00   \n",
      "2                                                      01   \n",
      "3                                                      02   \n",
      "4                                                      10   \n",
      "...                                                   ...   \n",
      "190038  31,07/26/20,00:00:05,Échec de la mise à jour D...   \n",
      "190039  11,07/26/20,00:00:06,Renouveler,192.168.10.110...   \n",
      "190040  11,07/26/20,00:00:06,Renouveler,192.168.10.110...   \n",
      "190041  11,07/26/20,00:00:06,Renouveler,192.168.10.110...   \n",
      "190042  11,07/26/20,00:00:06,Renouveler,192.168.10.110...   \n",
      "\n",
      "                                               Unnamed: 1  \\\n",
      "0                                                     NaN   \n",
      "1                                   Le journal a démarré.   \n",
      "2                                Le journal a été arrêté.   \n",
      "3       Le journal a été temporairement suspendu par m...   \n",
      "4       Une nouvelle adresse IP a été allouée par bail...   \n",
      "...                                                   ...   \n",
      "190038                                                NaN   \n",
      "190039                                                NaN   \n",
      "190040                                                NaN   \n",
      "190041                                                NaN   \n",
      "190042                                                NaN   \n",
      "\n",
      "        Journal d'activité du service DHCP Microsoft  \n",
      "0                                                NaN  \n",
      "1                                                NaN  \n",
      "2                                                NaN  \n",
      "3                                                NaN  \n",
      "4                                                NaN  \n",
      "...                                              ...  \n",
      "190038                                           NaN  \n",
      "190039                                           NaN  \n",
      "190040                                           NaN  \n",
      "190041                                           NaN  \n",
      "190042                                           NaN  \n",
      "\n",
      "[190043 rows x 3 columns]\n"
     ]
    }
   ],
   "source": [
    "# Lire le fichier avec l'encodage détecté\n",
    "jeuy = pd.read_table(file_path, encoding=encoding)\n",
    "print(jeuy)"
   ]
  }
 ],
 "metadata": {
  "kernelspec": {
   "display_name": "Python 3 (ipykernel)",
   "language": "python",
   "name": "python3"
  },
  "language_info": {
   "codemirror_mode": {
    "name": "ipython",
    "version": 3
   },
   "file_extension": ".py",
   "mimetype": "text/x-python",
   "name": "python",
   "nbconvert_exporter": "python",
   "pygments_lexer": "ipython3",
   "version": "3.11.7"
  }
 },
 "nbformat": 4,
 "nbformat_minor": 5
}
